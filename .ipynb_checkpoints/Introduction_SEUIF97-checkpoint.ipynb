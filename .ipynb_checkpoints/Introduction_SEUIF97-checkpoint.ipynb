{
 "cells": [
  {
   "cell_type": "markdown",
   "metadata": {},
   "source": [
    "# Introduction to SEUIF97 Library\n",
    "\n",
    " SEUIF97水和水蒸汽物性计算库是以IAPWS IF97公式为标准，C语言实现的高速，多平台适用共享库。\n",
    " \n",
    " Windows 32/64位版: 从 https://github.com/SEU03013050C/SEUIF97 下载：SEUIF97.dll和 seuif97.py，\n",
    " \n",
    " 然后：\n",
    " \n",
    "   1) SEUIF97.dll拷贝到 c:\\windows\\system\n",
    "   \n",
    "   2) seuif97.py拷贝到 c:\\python34\\Lib\n",
    "   \n",
    " \n",
    "SEUIF97仓库中同时有Linux共享库及Python接口模块。"
   ]
  },
  {
   "cell_type": "markdown",
   "metadata": {},
   "source": [
    "##  SEUIF97 share Lib\n",
    "\n",
    "## Function for Properties \n",
    "\n",
    " * seu**inAinB**( inA,inB, propertyID)\\n\",\n",
    "   *  inA -  double，the first known property: p、t、h\n",
    "   *  inB -  double，the second known property:t、h、s、v、x\n",
    "   *  propertyID  - int，0-29,(see **Properties in SEUIF97 Lib**)\n",
    "\n",
    "```c\n",
    "   seupt ( pressure, temperature, propertyID)\n",
    "   seuph (pressure, enthalpy, propertyID )\n",
    "   seups ( pressure, entropy, propertyID )\n",
    "   seupv ( pressure , volume, property ID)\n",
    "   seuth ( temperature, enthalpy, propertyID )\n",
    "   seuts ( temperature, entropy, property ID)\n",
    "   seutv ( temperature , volume, property ID)\n",
    "   seuhs ( enthalpy , entropy, property ID)\n",
    "   seupx ( pressure, quality, propertyID )\n",
    "   seutx ( temperature , quality, propertyID)\n",
    "```\n",
    "\n",
    "* Example  \n",
    "    Get Properties from （p,t)\n",
    "         \n",
    "    stdcall in  Windows\n",
    "\n",
    "```c\n",
    "          extern  \"C\" __stdcall __declspec(dllexport)  double seupt(double p,double t,int  propertyID);\n",
    "```\n",
    "\n",
    "    cdecl in Linux\n",
    "\n",
    "```c\n",
    "                 extern  \"C\"  double seupt(double p,double t,int wp);\n",
    "```\n",
    "\n",
    "```c\n",
    "        #include <iostream>\n",
    "        #include \"seuif97.h\"\n",
    "  \n",
    "        int main() {\n",
    "\t\n",
    "                double p=16.13;\n",
    "\t        double t=535;\n",
    "\t        double h;\n",
    "       \n",
    "                h=seupt(p,t,4);\n",
    "                printf(\"%5.2f\",h);\n",
    "\n",
    "\t        return 0;\n",
    "        }   \n",
    "\n",
    "```\n",
    "\n",
    "## Function for process  \n",
    "   \n",
    "*  1 等熵焓降： ishd( pi,ti,pe)\n",
    "    \n",
    "        pi - double，入口压力； ti - double，入口温度\n",
    "\n",
    "        pe - double，出口压力\n",
    "\n",
    "* 2 内效率： ief( pi,ti,pe,te)\n",
    "\n",
    "         pi  -double，入口压力；ti  - double，入口温度\\n\",\n",
    "\n",
    "         pe  -double，出口压力；te  - double， 出口温度\\n\",\n"
   ]
  },
  {
   "cell_type": "markdown",
   "metadata": {},
   "source": [
    "# Python 接口：seuif97.py\n",
    "\n",
    "使用Python标准库ctypes调用、封装共享库"
   ]
  },
  {
   "cell_type": "code",
   "execution_count": 12,
   "metadata": {
    "collapsed": true
   },
   "outputs": [],
   "source": [
    "# -*- coding: utf-8 -*- \n",
    "\n",
    "from ctypes import c_int,c_double,WINFUNCTYPE,windll\n",
    "prototype=WINFUNCTYPE(c_double,c_double,c_double,c_int)\n",
    "\n",
    "fpt=prototype((\"seupt\",windll.seuif97),)\n",
    "\n",
    "fpx=prototype((\"seupx\",windll.seuif97),)\n",
    "\n",
    "def pt(p,t,w): \n",
    "    result=fpt(p,t,w)\n",
    "    return result\n",
    "\n",
    "def pt2h(p,t): \n",
    "    result=fpt(p,t,4)\n",
    "    return result\n",
    "\n",
    "def px2s(p,x): \n",
    "    result=fpx(p,x,5)\n",
    "    return result\n",
    "\n",
    "def px2h(p,x): \n",
    "    result=fpx(p,x,4)\n",
    "    return result\n",
    "\n",
    "def px2t(p,x): \n",
    "    result=fpx(p,x,1)\n",
    "    return result"
   ]
  },
  {
   "cell_type": "markdown",
   "metadata": {
    "collapsed": true
   },
   "source": [
    "# 示例1： 简单调用"
   ]
  },
  {
   "cell_type": "code",
   "execution_count": 5,
   "metadata": {
    "collapsed": false
   },
   "outputs": [
    {
     "name": "stdout",
     "output_type": "stream",
     "text": [
      "h:  3471.7848838836876  s:  6.518652433515181\n",
      "t1:  562.1000000000004  t2  562.1000000000001\n",
      "p1:  16.12000000000001  p2  16.11999999999998\n"
     ]
    }
   ],
   "source": [
    "from seuif97 import *\n",
    "p=16.12\n",
    "t=562.1\n",
    "s=pt(p,t,5)\n",
    "h=pt2h(p,t)\n",
    "print('h: ',h,' s: ',s)\n",
    "\n",
    "t1=ph(p,h,1)\n",
    "t2=ps(p,s,1)\n",
    "\n",
    "print('t1: ',t1,' t2 ',t2)\n",
    "p1=th(t,h,0)\n",
    "p2=ts(t,s,0)\n",
    "\n",
    "print('p1: ',p1,' p2 ',p2)\n",
    "# %timeit p1=th(t,h,0)"
   ]
  },
  {
   "cell_type": "markdown",
   "metadata": {},
   "source": [
    "# 示例2： 朗肯循环效率\n",
    "\n",
    "<p>朗肯循环热效率计算：</p>\n",
    "<p>循环定压加热量：${q_1=h_1'-h_5 (kJ/kg)}$ </p>\n",
    "<p>循环定压加热量：${q_1=h_1'-h_5 (kJ/kg)}$ </p>\n",
    "\n",
    "<p>算例：华能玉环 USC 26.25/600/600 ，设计：发电效率44.86%，计算其理想朗肯循环热效率"
   ]
  },
  {
   "cell_type": "code",
   "execution_count": 13,
   "metadata": {
    "collapsed": false
   },
   "outputs": [
    {
     "name": "stdout",
     "output_type": "stream",
     "text": [
      "汽轮机定熵膨胀作功= 1556.9218216924253  kJ/kg\n",
      "定压加热= 3321.1304584876  kJ/kg\n",
      "理想热效率= 46.08944674210697 %\n"
     ]
    }
   ],
   "source": [
    "from seuif97 import *\n",
    "p1=26.25\n",
    "t1=600\n",
    "p2=4.8*0.001\n",
    "\n",
    "# 1 汽轮机定熵膨胀作功：h1-h2\n",
    "\n",
    "# 1.1 计算h1\n",
    "h1=pt2h(p1,t1)\n",
    "\n",
    "# 1.2 计算h2\n",
    "s1=pt(p1,t1,5) # s2=s1  定熵膨胀\n",
    "s2=s1\n",
    "s2w=px2s(p2,0)\n",
    "s2s=px2s(p2,1)\n",
    "x2=(s2-s2w)/(s2s-s2w) \n",
    "\n",
    "h2w=px2h(p2,0)\n",
    "h2s=px2h(p2,1)\n",
    "h2=h2w+x2*(h2s-h2w)\n",
    "\n",
    "w=h1-h2\n",
    "print('汽轮机定熵膨胀作功=',w,' kJ/kg')\n",
    "\n",
    "# 给水泵耗功：h5-h3\n",
    "\n",
    "p3=p2 # 定压 \n",
    "t3=px2t(p3,0)\n",
    "s3 =px2s(p3,0) #s3w\n",
    "h3 =px2h(p3,0) #h3w\n",
    "\n",
    "p5=p1 # 定压\n",
    "s5=s3\n",
    "h5=ps2h(p5,s5)\n",
    "\n",
    "wpump=h5-h3 #给水泵定熵压缩\n",
    "wq=w-wpump\n",
    "\n",
    "q1=h1-h5 # 定压加热\n",
    "print('定压加热=',q1,' kJ/kg')  \n",
    "\n",
    "ef=100*wq/q1\n",
    "print('理想热效率=',ef,'%')                                                     "
   ]
  },
  {
   "cell_type": "markdown",
   "metadata": {},
   "source": [
    "# 热力循环极限潜力：卡诺循环"
   ]
  },
  {
   "cell_type": "code",
   "execution_count": 14,
   "metadata": {
    "collapsed": false
   },
   "outputs": [
    {
     "name": "stdout",
     "output_type": "stream",
     "text": [
      "ef= 65.28087957395637\n"
     ]
    }
   ],
   "source": [
    "T1=30+273.15\n",
    "T2=600+273.15  # 华能玉环 USC 26.25/600/600  发电效率44.86%\n",
    "e=1-T1/T2\n",
    "print('ef=',e*100)"
   ]
  },
  {
   "cell_type": "markdown",
   "metadata": {},
   "source": [
    "#  示例3 内效率"
   ]
  },
  {
   "cell_type": "code",
   "execution_count": 15,
   "metadata": {
    "collapsed": false
   },
   "outputs": [
    {
     "name": "stdout",
     "output_type": "stream",
     "text": [
      "等熵焓降 = 425.003134565186\n",
      "过程效率 = 89.92487193794696\n"
     ]
    }
   ],
   "source": [
    "from seuif97 import *\n",
    "\n",
    "# HP of 300MW Steam Turbine \n",
    "\n",
    "p1=16\n",
    "t1=535\n",
    "p2=3.56\n",
    "t2=315\n",
    "\n",
    "# 使用过程方法\n",
    "hdis=ishd(p1,t1,p2) # 等熵焓降\n",
    "ef=ief(p1,t1,p2,t2) # 过程效率\n",
    "print('等熵焓降 =',hdis)\n",
    "print('过程效率 =',ef)"
   ]
  }
 ],
 "metadata": {
  "kernelspec": {
   "display_name": "Python 3",
   "language": "python",
   "name": "python3"
  },
  "language_info": {
   "codemirror_mode": {
    "name": "ipython",
    "version": 3
   },
   "file_extension": ".py",
   "mimetype": "text/x-python",
   "name": "python",
   "nbconvert_exporter": "python",
   "pygments_lexer": "ipython3",
   "version": "3.5.1"
  }
 },
 "nbformat": 4,
 "nbformat_minor": 0
}
